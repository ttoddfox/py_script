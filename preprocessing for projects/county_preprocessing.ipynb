{
 "cells": [
  {
   "cell_type": "code",
   "execution_count": 79,
   "metadata": {
    "collapsed": true
   },
   "outputs": [],
   "source": [
    "import pandas as pd\n",
    "import numpy as np\n",
    "county1=pd.read_csv('./county_data_final.csv')\n",
    "county2=pd.read_csv('./bankrupcy_data_final.csv')\n",
    "county1['county_name']=county1.geo_name.str.split(',').str[0]\n",
    "county1['county_name']=county1['county_name'].str.lower()\n",
    "county2['county']=county2['county'].str.lower()\n",
    "len(np.unique(county2['county']))\n",
    "len(np.unique(county1['county_name'].astype(str)))\n",
    "county1['county_name']=county1['county_name'].str.replace(' county', '')\n",
    "county1['county_name']=county1['county_name'].str.replace(' puma', '')\n",
    "county1['county_name']=county1['county_name'].str.replace(' census', '')\n",
    "county1['county_name']=county1['county_name'].str.replace(' tract', '')\n",
    "county2['county']=county2['county']\n",
    "county1['geoid_join']=county1['geo_id'].str[-4:]"
   ]
  },
  {
   "cell_type": "code",
   "execution_count": 99,
   "metadata": {
    "collapsed": true
   },
   "outputs": [],
   "source": [
    "county2['county code']=county2['county code'].astype(str)"
   ]
  },
  {
   "cell_type": "code",
   "execution_count": 111,
   "metadata": {},
   "outputs": [
    {
     "data": {
      "text/plain": [
       "Index(['year', 'geo_name', 'Unique key', 'geo_sumlevel', 'geo_id', 'avg_age',\n",
       "       'avg_age_ft', 'avg_age_pt', 'income', 'unemployment',\n",
       "       'mean_commute_minutes', 'owner_occupied_housing_units',\n",
       "       'population_living_in_a_rural_area', 'county_name', 'geoid_join'],\n",
       "      dtype='object')"
      ]
     },
     "execution_count": 111,
     "metadata": {},
     "output_type": "execute_result"
    }
   ],
   "source": [
    "county1.columns"
   ]
  },
  {
   "cell_type": "code",
   "execution_count": 112,
   "metadata": {},
   "outputs": [
    {
     "data": {
      "text/plain": [
       "Index(['year', 'county', 'county code', 'Total', ' Chap.7', ' Chap.11',\n",
       "       ' Chap.12', 'Chap.13'],\n",
       "      dtype='object')"
      ]
     },
     "execution_count": 112,
     "metadata": {},
     "output_type": "execute_result"
    }
   ],
   "source": [
    "county2.columns"
   ]
  },
  {
   "cell_type": "code",
   "execution_count": 78,
   "metadata": {},
   "outputs": [
    {
     "data": {
      "text/plain": [
       "[('census', 23979),\n",
       " ('tract', 23968),\n",
       " ('puma', 1710),\n",
       " ('city', 803),\n",
       " ('&', 675),\n",
       " ('cities', 199),\n",
       " ('counties', 119),\n",
       " ('(north)', 117),\n",
       " ('(south)', 110),\n",
       " ('(west)', 95),\n",
       " ('(east)', 95),\n",
       " ('town', 91),\n",
       " ('municipio', 85),\n",
       " ('parish', 76),\n",
       " ('san', 70),\n",
       " ('central)', 67),\n",
       " ('st.', 59),\n",
       " ('(northwest)', 58),\n",
       " ('(central)', 57),\n",
       " ('of', 56)]"
      ]
     },
     "execution_count": 78,
     "metadata": {},
     "output_type": "execute_result"
    }
   ],
   "source": [
    "counts"
   ]
  },
  {
   "cell_type": "code",
   "execution_count": 81,
   "metadata": {
    "collapsed": true
   },
   "outputs": [],
   "source": [
    "import re\n",
    "county1['county_name']=county1['county_name'].astype(str)\n",
    "county1['county_name']=[re.sub(r'\\([^()]*\\)','',x) for x in county1['county_name']]\n",
    "county1['county_name']=[re.sub(r'puma','',x) for x in county1['county_name']]"
   ]
  },
  {
   "cell_type": "code",
   "execution_count": 116,
   "metadata": {},
   "outputs": [
    {
     "name": "stdout",
     "output_type": "stream",
     "text": [
      "(85310, 22)\n",
      "(19947, 22)\n"
     ]
    }
   ],
   "source": [
    "print(final_county1.shape)\n",
    "print(final_county2.shape)"
   ]
  },
  {
   "cell_type": "code",
   "execution_count": 113,
   "metadata": {
    "collapsed": true
   },
   "outputs": [],
   "source": [
    "final_county1=pd.merge(county1,county2,left_on=['county_name','year'],right_on=['county','year'],how='inner')"
   ]
  },
  {
   "cell_type": "code",
   "execution_count": 114,
   "metadata": {
    "collapsed": true
   },
   "outputs": [],
   "source": [
    "final_county2=pd.merge(county1,county2,left_on=['geoid_join','year'],right_on=['county code','year'],how='inner')\n",
    "final_county2.to_csv('final_county2.csv')"
   ]
  },
  {
   "cell_type": "code",
   "execution_count": 115,
   "metadata": {
    "collapsed": true
   },
   "outputs": [],
   "source": [
    "final_county1.to_csv('final_county1.csv')"
   ]
  },
  {
   "cell_type": "code",
   "execution_count": null,
   "metadata": {
    "collapsed": true
   },
   "outputs": [],
   "source": []
  },
  {
   "cell_type": "code",
   "execution_count": 47,
   "metadata": {},
   "outputs": [
    {
     "data": {
      "text/plain": [
       "28022"
      ]
     },
     "execution_count": 47,
     "metadata": {},
     "output_type": "execute_result"
    }
   ],
   "source": [
    "count=0\n",
    "total_word_list=[]\n",
    "for i in np.unique(county1['county_name'].astype(str)):\n",
    "    total_word_list=total_word_list+i.split()\n",
    "from collections import Counter\n",
    "counts = Counter(total_word_list).most_common(20)\n"
   ]
  },
  {
   "cell_type": "code",
   "execution_count": 93,
   "metadata": {},
   "outputs": [
    {
     "data": {
      "text/html": [
       "<div>\n",
       "<style>\n",
       "    .dataframe thead tr:only-child th {\n",
       "        text-align: right;\n",
       "    }\n",
       "\n",
       "    .dataframe thead th {\n",
       "        text-align: left;\n",
       "    }\n",
       "\n",
       "    .dataframe tbody tr th {\n",
       "        vertical-align: top;\n",
       "    }\n",
       "</style>\n",
       "<table border=\"1\" class=\"dataframe\">\n",
       "  <thead>\n",
       "    <tr style=\"text-align: right;\">\n",
       "      <th></th>\n",
       "      <th>year</th>\n",
       "      <th>geo_name</th>\n",
       "      <th>Unique key</th>\n",
       "      <th>geo_sumlevel</th>\n",
       "      <th>geo_id</th>\n",
       "      <th>avg_age</th>\n",
       "      <th>avg_age_ft</th>\n",
       "      <th>avg_age_pt</th>\n",
       "      <th>income</th>\n",
       "      <th>unemployment</th>\n",
       "      <th>mean_commute_minutes</th>\n",
       "      <th>owner_occupied_housing_units</th>\n",
       "      <th>population_living_in_a_rural_area</th>\n",
       "      <th>county_name</th>\n",
       "    </tr>\n",
       "  </thead>\n",
       "  <tbody>\n",
       "    <tr>\n",
       "      <th>0</th>\n",
       "      <td>2013</td>\n",
       "      <td>Autauga County, AL</td>\n",
       "      <td>Autauga County, AL2013</td>\n",
       "      <td>county</td>\n",
       "      <td>05000US01001</td>\n",
       "      <td>NaN</td>\n",
       "      <td>NaN</td>\n",
       "      <td>NaN</td>\n",
       "      <td>53682.0</td>\n",
       "      <td>NaN</td>\n",
       "      <td>25.6470</td>\n",
       "      <td>0.768173</td>\n",
       "      <td>0.00</td>\n",
       "      <td>autauga</td>\n",
       "    </tr>\n",
       "    <tr>\n",
       "      <th>1</th>\n",
       "      <td>2014</td>\n",
       "      <td>Autauga County, AL</td>\n",
       "      <td>Autauga County, AL2014</td>\n",
       "      <td>county</td>\n",
       "      <td>05000US01001</td>\n",
       "      <td>NaN</td>\n",
       "      <td>NaN</td>\n",
       "      <td>NaN</td>\n",
       "      <td>52475.0</td>\n",
       "      <td>NaN</td>\n",
       "      <td>26.3211</td>\n",
       "      <td>0.750985</td>\n",
       "      <td>0.00</td>\n",
       "      <td>autauga</td>\n",
       "    </tr>\n",
       "    <tr>\n",
       "      <th>2</th>\n",
       "      <td>2015</td>\n",
       "      <td>Autauga County, AL</td>\n",
       "      <td>Autauga County, AL2015</td>\n",
       "      <td>county</td>\n",
       "      <td>05000US01001</td>\n",
       "      <td>NaN</td>\n",
       "      <td>NaN</td>\n",
       "      <td>NaN</td>\n",
       "      <td>51281.0</td>\n",
       "      <td>0.057</td>\n",
       "      <td>26.0002</td>\n",
       "      <td>0.739214</td>\n",
       "      <td>0.42</td>\n",
       "      <td>autauga</td>\n",
       "    </tr>\n",
       "    <tr>\n",
       "      <th>3</th>\n",
       "      <td>2016</td>\n",
       "      <td>Autauga County, AL</td>\n",
       "      <td>Autauga County, AL2016</td>\n",
       "      <td>county</td>\n",
       "      <td>05000US01001</td>\n",
       "      <td>NaN</td>\n",
       "      <td>NaN</td>\n",
       "      <td>NaN</td>\n",
       "      <td>53099.0</td>\n",
       "      <td>0.059</td>\n",
       "      <td>25.5584</td>\n",
       "      <td>0.731635</td>\n",
       "      <td>0.42</td>\n",
       "      <td>autauga</td>\n",
       "    </tr>\n",
       "    <tr>\n",
       "      <th>4</th>\n",
       "      <td>2017</td>\n",
       "      <td>Autauga County, AL</td>\n",
       "      <td>Autauga County, AL2017</td>\n",
       "      <td>county</td>\n",
       "      <td>05000US01001</td>\n",
       "      <td>NaN</td>\n",
       "      <td>NaN</td>\n",
       "      <td>NaN</td>\n",
       "      <td>NaN</td>\n",
       "      <td>0.052</td>\n",
       "      <td>0.0000</td>\n",
       "      <td>0.000000</td>\n",
       "      <td>0.42</td>\n",
       "      <td>autauga</td>\n",
       "    </tr>\n",
       "  </tbody>\n",
       "</table>\n",
       "</div>"
      ],
      "text/plain": [
       "   year            geo_name              Unique key geo_sumlevel  \\\n",
       "0  2013  Autauga County, AL  Autauga County, AL2013       county   \n",
       "1  2014  Autauga County, AL  Autauga County, AL2014       county   \n",
       "2  2015  Autauga County, AL  Autauga County, AL2015       county   \n",
       "3  2016  Autauga County, AL  Autauga County, AL2016       county   \n",
       "4  2017  Autauga County, AL  Autauga County, AL2017       county   \n",
       "\n",
       "         geo_id  avg_age  avg_age_ft  avg_age_pt   income  unemployment  \\\n",
       "0  05000US01001      NaN         NaN         NaN  53682.0           NaN   \n",
       "1  05000US01001      NaN         NaN         NaN  52475.0           NaN   \n",
       "2  05000US01001      NaN         NaN         NaN  51281.0         0.057   \n",
       "3  05000US01001      NaN         NaN         NaN  53099.0         0.059   \n",
       "4  05000US01001      NaN         NaN         NaN      NaN         0.052   \n",
       "\n",
       "   mean_commute_minutes  owner_occupied_housing_units  \\\n",
       "0               25.6470                      0.768173   \n",
       "1               26.3211                      0.750985   \n",
       "2               26.0002                      0.739214   \n",
       "3               25.5584                      0.731635   \n",
       "4                0.0000                      0.000000   \n",
       "\n",
       "   population_living_in_a_rural_area county_name  \n",
       "0                               0.00     autauga  \n",
       "1                               0.00     autauga  \n",
       "2                               0.42     autauga  \n",
       "3                               0.42     autauga  \n",
       "4                               0.42     autauga  "
      ]
     },
     "execution_count": 93,
     "metadata": {},
     "output_type": "execute_result"
    }
   ],
   "source": [
    "county1.head(5)"
   ]
  },
  {
   "cell_type": "code",
   "execution_count": 95,
   "metadata": {
    "collapsed": true
   },
   "outputs": [],
   "source": []
  },
  {
   "cell_type": "code",
   "execution_count": 96,
   "metadata": {},
   "outputs": [
    {
     "data": {
      "text/html": [
       "<div>\n",
       "<style>\n",
       "    .dataframe thead tr:only-child th {\n",
       "        text-align: right;\n",
       "    }\n",
       "\n",
       "    .dataframe thead th {\n",
       "        text-align: left;\n",
       "    }\n",
       "\n",
       "    .dataframe tbody tr th {\n",
       "        vertical-align: top;\n",
       "    }\n",
       "</style>\n",
       "<table border=\"1\" class=\"dataframe\">\n",
       "  <thead>\n",
       "    <tr style=\"text-align: right;\">\n",
       "      <th></th>\n",
       "      <th>year</th>\n",
       "      <th>geo_name</th>\n",
       "      <th>Unique key</th>\n",
       "      <th>geo_sumlevel</th>\n",
       "      <th>geo_id</th>\n",
       "      <th>avg_age</th>\n",
       "      <th>avg_age_ft</th>\n",
       "      <th>avg_age_pt</th>\n",
       "      <th>income</th>\n",
       "      <th>unemployment</th>\n",
       "      <th>mean_commute_minutes</th>\n",
       "      <th>owner_occupied_housing_units</th>\n",
       "      <th>population_living_in_a_rural_area</th>\n",
       "      <th>county_name</th>\n",
       "      <th>geoid_join</th>\n",
       "    </tr>\n",
       "  </thead>\n",
       "  <tbody>\n",
       "    <tr>\n",
       "      <th>0</th>\n",
       "      <td>2013</td>\n",
       "      <td>Autauga County, AL</td>\n",
       "      <td>Autauga County, AL2013</td>\n",
       "      <td>county</td>\n",
       "      <td>05000US01001</td>\n",
       "      <td>NaN</td>\n",
       "      <td>NaN</td>\n",
       "      <td>NaN</td>\n",
       "      <td>53682.0</td>\n",
       "      <td>NaN</td>\n",
       "      <td>25.6470</td>\n",
       "      <td>0.768173</td>\n",
       "      <td>0.00</td>\n",
       "      <td>autauga</td>\n",
       "      <td>1001</td>\n",
       "    </tr>\n",
       "    <tr>\n",
       "      <th>1</th>\n",
       "      <td>2014</td>\n",
       "      <td>Autauga County, AL</td>\n",
       "      <td>Autauga County, AL2014</td>\n",
       "      <td>county</td>\n",
       "      <td>05000US01001</td>\n",
       "      <td>NaN</td>\n",
       "      <td>NaN</td>\n",
       "      <td>NaN</td>\n",
       "      <td>52475.0</td>\n",
       "      <td>NaN</td>\n",
       "      <td>26.3211</td>\n",
       "      <td>0.750985</td>\n",
       "      <td>0.00</td>\n",
       "      <td>autauga</td>\n",
       "      <td>1001</td>\n",
       "    </tr>\n",
       "    <tr>\n",
       "      <th>2</th>\n",
       "      <td>2015</td>\n",
       "      <td>Autauga County, AL</td>\n",
       "      <td>Autauga County, AL2015</td>\n",
       "      <td>county</td>\n",
       "      <td>05000US01001</td>\n",
       "      <td>NaN</td>\n",
       "      <td>NaN</td>\n",
       "      <td>NaN</td>\n",
       "      <td>51281.0</td>\n",
       "      <td>0.057</td>\n",
       "      <td>26.0002</td>\n",
       "      <td>0.739214</td>\n",
       "      <td>0.42</td>\n",
       "      <td>autauga</td>\n",
       "      <td>1001</td>\n",
       "    </tr>\n",
       "    <tr>\n",
       "      <th>3</th>\n",
       "      <td>2016</td>\n",
       "      <td>Autauga County, AL</td>\n",
       "      <td>Autauga County, AL2016</td>\n",
       "      <td>county</td>\n",
       "      <td>05000US01001</td>\n",
       "      <td>NaN</td>\n",
       "      <td>NaN</td>\n",
       "      <td>NaN</td>\n",
       "      <td>53099.0</td>\n",
       "      <td>0.059</td>\n",
       "      <td>25.5584</td>\n",
       "      <td>0.731635</td>\n",
       "      <td>0.42</td>\n",
       "      <td>autauga</td>\n",
       "      <td>1001</td>\n",
       "    </tr>\n",
       "    <tr>\n",
       "      <th>4</th>\n",
       "      <td>2017</td>\n",
       "      <td>Autauga County, AL</td>\n",
       "      <td>Autauga County, AL2017</td>\n",
       "      <td>county</td>\n",
       "      <td>05000US01001</td>\n",
       "      <td>NaN</td>\n",
       "      <td>NaN</td>\n",
       "      <td>NaN</td>\n",
       "      <td>NaN</td>\n",
       "      <td>0.052</td>\n",
       "      <td>0.0000</td>\n",
       "      <td>0.000000</td>\n",
       "      <td>0.42</td>\n",
       "      <td>autauga</td>\n",
       "      <td>1001</td>\n",
       "    </tr>\n",
       "  </tbody>\n",
       "</table>\n",
       "</div>"
      ],
      "text/plain": [
       "   year            geo_name              Unique key geo_sumlevel  \\\n",
       "0  2013  Autauga County, AL  Autauga County, AL2013       county   \n",
       "1  2014  Autauga County, AL  Autauga County, AL2014       county   \n",
       "2  2015  Autauga County, AL  Autauga County, AL2015       county   \n",
       "3  2016  Autauga County, AL  Autauga County, AL2016       county   \n",
       "4  2017  Autauga County, AL  Autauga County, AL2017       county   \n",
       "\n",
       "         geo_id  avg_age  avg_age_ft  avg_age_pt   income  unemployment  \\\n",
       "0  05000US01001      NaN         NaN         NaN  53682.0           NaN   \n",
       "1  05000US01001      NaN         NaN         NaN  52475.0           NaN   \n",
       "2  05000US01001      NaN         NaN         NaN  51281.0         0.057   \n",
       "3  05000US01001      NaN         NaN         NaN  53099.0         0.059   \n",
       "4  05000US01001      NaN         NaN         NaN      NaN         0.052   \n",
       "\n",
       "   mean_commute_minutes  owner_occupied_housing_units  \\\n",
       "0               25.6470                      0.768173   \n",
       "1               26.3211                      0.750985   \n",
       "2               26.0002                      0.739214   \n",
       "3               25.5584                      0.731635   \n",
       "4                0.0000                      0.000000   \n",
       "\n",
       "   population_living_in_a_rural_area county_name geoid_join  \n",
       "0                               0.00     autauga       1001  \n",
       "1                               0.00     autauga       1001  \n",
       "2                               0.42     autauga       1001  \n",
       "3                               0.42     autauga       1001  \n",
       "4                               0.42     autauga       1001  "
      ]
     },
     "execution_count": 96,
     "metadata": {},
     "output_type": "execute_result"
    }
   ],
   "source": [
    "county1.head(5)"
   ]
  }
 ],
 "metadata": {
  "kernelspec": {
   "display_name": "Python 3",
   "language": "python",
   "name": "python3"
  },
  "language_info": {
   "codemirror_mode": {
    "name": "ipython",
    "version": 3
   },
   "file_extension": ".py",
   "mimetype": "text/x-python",
   "name": "python",
   "nbconvert_exporter": "python",
   "pygments_lexer": "ipython3",
   "version": "3.6.3"
  }
 },
 "nbformat": 4,
 "nbformat_minor": 2
}
