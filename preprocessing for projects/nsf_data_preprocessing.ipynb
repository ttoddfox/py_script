{
 "cells": [
  {
   "cell_type": "code",
   "execution_count": 2,
   "metadata": {
    "collapsed": true
   },
   "outputs": [],
   "source": [
    "import pandas as pd\n",
    "import numpy as np\n",
    "from IPython.display import display, HTML\n",
    "import pandas as pd\n",
    "import requests\n",
    "from bs4 import BeautifulSoup\n",
    "import pandas as pd\n",
    "import re\n",
    "import time\n",
    "import sqlite3\n",
    "import os\n",
    "import numpy as np\n",
    "import shutil\n",
    "import math\n",
    "import seaborn as sns\n",
    "import matplotlib.pyplot as plt\n",
    "import operator\n",
    "\n"
   ]
  },
  {
   "cell_type": "code",
   "execution_count": 3,
   "metadata": {
    "collapsed": true
   },
   "outputs": [],
   "source": [
    "if os.path.exists('./nsf_data/'):\n",
    "    pass\n",
    "else:\n",
    "    os.mkdir('./nsf_data/')\n",
    "if os.path.exists('./nsf_data_cleaned/'):\n",
    "    pass\n",
    "else:\n",
    "    os.mkdir('./nsf_data_cleaned/')"
   ]
  },
  {
   "cell_type": "code",
   "execution_count": 85,
   "metadata": {},
   "outputs": [],
   "source": [
    "data_dir='C:/Users/ttodd/OneDrive/Desktop/capstone/nsf/'\n",
    "file_list=os.listdir(data_dir)\n",
    "state_list=[\"Alabama\",\"Alaska\",\"Arizona\",\"Arkansas\",\"California\",\"Colorado\",\n",
    "  \"Connecticut\",\"Delaware\",'District of Columbia',\"Florida\",\"Georgia\",\"Hawaii\",\"Idaho\",\"Illinois\",\n",
    "  \"Indiana\",\"Iowa\",\"Kansas\",\"Kentucky\",\"Louisiana\",\"Maine\",\"Maryland\",\n",
    "  \"Massachusetts\",\"Michigan\",\"Minnesota\",\"Mississippi\",\"Missouri\",\"Montana\",\n",
    "  \"Nebraska\",\"Nevada\",\"New Hampshire\",\"New Jersey\",\"New Mexico\",\"New York\",\n",
    "  \"North Carolina\",\"North Dakota\",\"Ohio\",\"Oklahoma\",\"Oregon\",\"Pennsylvania\",\n",
    "  \"Rhode Island\",\"South Carolina\",\"South Dakota\",\"Tennessee\",\"Texas\",\"Utah\",\n",
    "  \"Vermont\",\"Virginia\",\"Washington\",\"West Virginia\",\"Wisconsin\",\"Wyoming\"]\n",
    "state_list1=[re.sub(' ','',x) for x in state_list]\n",
    "state_append_list=[x+'c' for x in state_list]\n",
    "state_append_list1=[x+'b' for x in state_list]\n",
    "state_final_list1=state_list+state_append_list1+state_append_list\n"
   ]
  },
  {
   "cell_type": "code",
   "execution_count": 93,
   "metadata": {},
   "outputs": [
    {
     "name": "stdout",
     "output_type": "stream",
     "text": [
      "2010_tab23.xls\n"
     ]
    },
    {
     "name": "stderr",
     "output_type": "stream",
     "text": [
      "C:\\Users\\ttodd\\Anaconda3\\lib\\site-packages\\ipykernel_launcher.py:11: SettingWithCopyWarning: \n",
      "A value is trying to be set on a copy of a slice from a DataFrame.\n",
      "Try using .loc[row_indexer,col_indexer] = value instead\n",
      "\n",
      "See the caveats in the documentation: http://pandas.pydata.org/pandas-docs/stable/indexing.html#indexing-view-versus-copy\n",
      "  # This is added back by InteractiveShellApp.init_path()\n",
      "C:\\Users\\ttodd\\Anaconda3\\lib\\site-packages\\ipykernel_launcher.py:12: SettingWithCopyWarning: \n",
      "A value is trying to be set on a copy of a slice from a DataFrame.\n",
      "Try using .loc[row_indexer,col_indexer] = value instead\n",
      "\n",
      "See the caveats in the documentation: http://pandas.pydata.org/pandas-docs/stable/indexing.html#indexing-view-versus-copy\n",
      "  if sys.path[0] == '':\n"
     ]
    },
    {
     "name": "stdout",
     "output_type": "stream",
     "text": [
      "(51, 3)\n",
      "2010_tab24.xls\n",
      "(51, 3)\n",
      "2011_tab23.xls\n",
      "(51, 3)\n",
      "2011_tab24.xls\n",
      "(51, 3)\n",
      "GSS2012_DST23.xlsx\n"
     ]
    },
    {
     "name": "stderr",
     "output_type": "stream",
     "text": [
      "C:\\Users\\ttodd\\Anaconda3\\lib\\site-packages\\ipykernel_launcher.py:20: SettingWithCopyWarning: \n",
      "A value is trying to be set on a copy of a slice from a DataFrame.\n",
      "Try using .loc[row_indexer,col_indexer] = value instead\n",
      "\n",
      "See the caveats in the documentation: http://pandas.pydata.org/pandas-docs/stable/indexing.html#indexing-view-versus-copy\n",
      "C:\\Users\\ttodd\\Anaconda3\\lib\\site-packages\\ipykernel_launcher.py:21: SettingWithCopyWarning: \n",
      "A value is trying to be set on a copy of a slice from a DataFrame.\n",
      "Try using .loc[row_indexer,col_indexer] = value instead\n",
      "\n",
      "See the caveats in the documentation: http://pandas.pydata.org/pandas-docs/stable/indexing.html#indexing-view-versus-copy\n"
     ]
    },
    {
     "name": "stdout",
     "output_type": "stream",
     "text": [
      "(51, 3)\n",
      "GSS2012_DST24.xlsx\n",
      "(51, 3)\n",
      "GSS2013_DST_23.xlsx\n",
      "(51, 3)\n",
      "GSS2013_DST_24.xlsx\n",
      "(51, 3)\n",
      "GSS2014_DST_23.xlsx\n",
      "(51, 3)\n",
      "GSS2014_DST_24.xlsx\n",
      "(51, 3)\n",
      "GSS2015_DST_23.xlsx\n",
      "(51, 3)\n",
      "GSS2015_DST_24.xlsx\n",
      "(51, 3)\n",
      "GSS2016_DST_23.xlsx\n",
      "(51, 3)\n",
      "GSS2016_DST_24.xlsx\n",
      "(51, 3)\n"
     ]
    }
   ],
   "source": [
    "for i in file_list:\n",
    "    print(i)\n",
    "    temp_file=data_dir+i\n",
    "    if temp_file.endswith('.xls'):\n",
    "        temp_data=pd.read_excel(temp_file,skiprows=4)\n",
    "        temp_data=temp_data.iloc[:,[0,1,14]]\n",
    "        temp_data.columns=['GeoName','total','visaholders']\n",
    "        temp_data['GeoName']=temp_data['GeoName'].str.replace('^\\s+','')\n",
    "        temp_data_cleaned=temp_data.loc[temp_data['GeoName'].isin(state_final_list1),:]\n",
    "        temp_data_cleaned['GeoName']=temp_data_cleaned['GeoName'].str.replace('b$','')\n",
    "        temp_data_cleaned['GeoName']=temp_data_cleaned['GeoName'].str.replace('c$','')\n",
    "    else:\n",
    "        temp_data=pd.read_excel(temp_file,skiprows=4)\n",
    "        temp_data=temp_data.iloc[:,[0,1,10]]\n",
    "        temp_data.columns=['GeoName','total','visaholders']\n",
    "        temp_data['GeoName']=temp_data['GeoName'].str.replace('\\xa0','')\n",
    "        temp_data_cleaned=temp_data.loc[temp_data['GeoName'].isin(state_final_list1),:]\n",
    "        temp_data_cleaned['GeoName']=temp_data_cleaned['GeoName'].str.replace('c$','')\n",
    "        temp_data_cleaned['GeoName']=temp_data_cleaned['GeoName'].str.replace('b$','')\n",
    "    print(temp_data_cleaned.shape)\n"
   ]
  },
  {
   "cell_type": "code",
   "execution_count": 43,
   "metadata": {
    "collapsed": true
   },
   "outputs": [],
   "source": []
  }
 ],
 "metadata": {
  "kernelspec": {
   "display_name": "Python 3",
   "language": "python",
   "name": "python3"
  },
  "language_info": {
   "codemirror_mode": {
    "name": "ipython",
    "version": 3
   },
   "file_extension": ".py",
   "mimetype": "text/x-python",
   "name": "python",
   "nbconvert_exporter": "python",
   "pygments_lexer": "ipython3",
   "version": "3.6.3"
  }
 },
 "nbformat": 4,
 "nbformat_minor": 2
}
