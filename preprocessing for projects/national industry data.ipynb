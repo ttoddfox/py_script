{
 "cells": [
  {
   "cell_type": "code",
   "execution_count": 5,
   "metadata": {
    "collapsed": true
   },
   "outputs": [],
   "source": [
    "import re\n",
    "import requests\n",
    "import os\n",
    "import pandas as pd\n",
    "import numpy as np\n",
    "from IPython.display import display, HTML\n",
    "import pandas as pd\n",
    "import requests\n",
    "from bs4 import BeautifulSoup\n",
    "import pandas as pd\n",
    "import re\n",
    "import time\n",
    "import sqlite3\n",
    "import os\n",
    "import numpy as np\n",
    "import shutil\n",
    "import math\n",
    "import seaborn as sns\n",
    "import matplotlib.pyplot as plt\n",
    "import operator\n",
    "\n"
   ]
  },
  {
   "cell_type": "code",
   "execution_count": 3,
   "metadata": {
    "collapsed": true
   },
   "outputs": [],
   "source": [
    "if os.path.exists('./national_industry/'):\n",
    "    pass\n",
    "else:\n",
    "    os.mkdir('./national_industry/')\n",
    "if os.path.exists('./national_industry_cleaned/'):\n",
    "    pass\n",
    "else:\n",
    "    os.mkdir('./national_industry_cleaned/')"
   ]
  },
  {
   "cell_type": "code",
   "execution_count": 11,
   "metadata": {},
   "outputs": [],
   "source": [
    "mta_web='https://www.bls.gov/bdm/bdmind.htm'\n",
    "response=requests.get(mta_web)\n",
    "web_content=response.content\n",
    "soup = BeautifulSoup(web_content, 'html.parser')\n",
    "final_link=[]\n",
    "for link in soup.find_all('a',{'href':re.compile('/web/cewbd/+(.*?)table1_[0-9]{1}.txt')}):\n",
    "    temp_link='https://www.bls.gov'+link.get('href')\n",
    "    final_link.append(temp_link)\n",
    "\n",
    "\n"
   ]
  },
  {
   "cell_type": "code",
   "execution_count": 16,
   "metadata": {},
   "outputs": [],
   "source": [
    "for link in final_link:#uncomment the bottom lines of code if you wanna scrape the data again\n",
    "    file_name=re.sub('https://www.bls.gov/web/cewbd/','',link)\n",
    "    response=requests.get(link) \n",
    "    with open('./national_industry/'+file_name, 'wb') as f:\n",
    "        f.write(response.content)"
   ]
  },
  {
   "cell_type": "code",
   "execution_count": 18,
   "metadata": {
    "collapsed": true
   },
   "outputs": [],
   "source": [
    "target_dir='./national_industry/'\n",
    "file_list=os.listdir(target_dir)\n"
   ]
  },
  {
   "cell_type": "code",
   "execution_count": 19,
   "metadata": {},
   "outputs": [],
   "source": [
    "for j in file_list:\n",
    "    with open(target_dir+j) as fp:\n",
    "        temp_year=1991\n",
    "        lines = fp.readlines()\n",
    "        count=0\n",
    "        for i in lines:\n",
    "            if count==2:\n",
    "                file_name=i.split()\n",
    "                file_name=(' ').join(file_name)\n",
    "                f = open('./national_industry_cleaned/'+file_name+\".txt\", \"a\")\n",
    "            count=count+1\n",
    "            line_len=len(i.split())\n",
    "            if line_len>0 and line_len>=8 and line_len<=10:\n",
    "                temp_line=i.split()\n",
    "                temp_line=[re.sub(',','',x) for x in temp_line]\n",
    "                if re.search('[0-9]{4}',temp_line[0]):\n",
    "                    if int(temp_line[0])>temp_year:\n",
    "                        temp_year=int(temp_line[0])\n",
    "                if line_len==8:\n",
    "                    temp_line.insert(0,str(temp_year))\n",
    "                    new_line=('/').join(temp_line)\n",
    "                    f.write(\"%s\\n\" % new_line)\n",
    "                if line_len==9:\n",
    "                    new_line=('/').join(temp_line)\n",
    "                    f.write(\"%s\\n\" % new_line)\n",
    "        f.close()    "
   ]
  },
  {
   "cell_type": "code",
   "execution_count": 24,
   "metadata": {
    "collapsed": true
   },
   "outputs": [],
   "source": [
    "target_dir='./national_industry_cleaned/'\n",
    "file_list=os.listdir(target_dir)"
   ]
  },
  {
   "cell_type": "code",
   "execution_count": 29,
   "metadata": {},
   "outputs": [
    {
     "data": {
      "text/plain": [
       "['Construction.txt',\n",
       " 'Goods-producing.txt',\n",
       " 'Manufacturing.txt',\n",
       " 'Natural resources and mining.txt',\n",
       " 'Retail trade.txt',\n",
       " 'Service-providing.txt',\n",
       " 'Total private.txt',\n",
       " 'Transportation and warehousing.txt',\n",
       " 'Wholesale trade.txt']"
      ]
     },
     "execution_count": 29,
     "metadata": {},
     "output_type": "execute_result"
    }
   ],
   "source": [
    "file_list"
   ]
  },
  {
   "cell_type": "code",
   "execution_count": 30,
   "metadata": {},
   "outputs": [
    {
     "name": "stdout",
     "output_type": "stream",
     "text": [
      "      0          1   2    3    4    5    6    7    8\n",
      "0  1992  September  42  746  566  180  704  548  156\n",
      "1  1992   December  18  727  559  168  709  551  158\n",
      "      0          1   2     3     4    5     6     7    8\n",
      "0  1992  September  56  1976  1591  385  1920  1566  354\n",
      "1  1992   December -45  1878  1530  348  1923  1560  363\n",
      "      0          1   2    3    4    5    6    7    8\n",
      "0  1992  September  18  866  732  134  848  716  132\n",
      "1  1992   December -67  812  699  113  879  742  137\n",
      "      0          1  2    3    4   5    6    7   8\n",
      "0  1992  September -4  364  293  71  368  302  66\n",
      "1  1992   December  4  339  272  67  335  267  68\n",
      "      0          1   2     3    4    5     6    7    8\n",
      "0  1992  September  84  1070  855  215   986  796  190\n",
      "1  1992   December  -9  1020  800  220  1029  859  170\n",
      "      0          1    2     3     4     5     6     7     8\n",
      "0  1992  September  603  5393  4140  1253  4790  3715  1075\n",
      "1  1992   December  123  5062  3893  1169  4939  3939  1000\n",
      "      0          1    2     3     4     5     6     7     8\n",
      "0  1992  September  659  7369  5731  1638  6710  5281  1429\n",
      "1  1992   December   78  6940  5423  1517  6862  5499  1363\n",
      "      0          1   2    3    4   5    6    7   8\n",
      "0  1992  September  12  238  189  49  226  184  42\n",
      "1  1992   December  -9  219  173  46  228  186  42\n",
      "      0          1   2    3    4   5    6    7   8\n",
      "0  1992  September  15  342  265  77  327  250  77\n",
      "1  1992   December  -3  327  251  76  330  258  72\n"
     ]
    }
   ],
   "source": [
    "for i in file_list:\n",
    "    temp_file=target_dir+i\n",
    "    temp_data=pd.read_table(temp_file,sep='/',header=None)\n",
    "    temp_write_name=re.sub('.txt','.csv',i)\n",
    "    temp_data.to_csv(target_dir+temp_write_name)\n",
    "    print(temp_data.head(2))"
   ]
  },
  {
   "cell_type": "code",
   "execution_count": null,
   "metadata": {
    "collapsed": true
   },
   "outputs": [],
   "source": []
  }
 ],
 "metadata": {
  "kernelspec": {
   "display_name": "Python 3",
   "language": "python",
   "name": "python3"
  },
  "language_info": {
   "codemirror_mode": {
    "name": "ipython",
    "version": 3
   },
   "file_extension": ".py",
   "mimetype": "text/x-python",
   "name": "python",
   "nbconvert_exporter": "python",
   "pygments_lexer": "ipython3",
   "version": "3.6.3"
  }
 },
 "nbformat": 4,
 "nbformat_minor": 2
}
