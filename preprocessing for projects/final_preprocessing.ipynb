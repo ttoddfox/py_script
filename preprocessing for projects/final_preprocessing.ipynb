{
 "cells": [
  {
   "cell_type": "code",
   "execution_count": 1,
   "metadata": {
    "collapsed": true
   },
   "outputs": [],
   "source": [
    "import pandas as pd\n",
    "import os\n",
    "import re\n",
    "from functools import reduce\n",
    "import numpy as np"
   ]
  },
  {
   "cell_type": "code",
   "execution_count": 3,
   "metadata": {},
   "outputs": [],
   "source": [
    "%matplotlib inline\n",
    "def missing_report(df):    \n",
    "    missing_df = df.isnull().sum(axis=0).reset_index()\n",
    "    missing_df.columns = ['column_name', 'missing_count']\n",
    "    missing_df['missing_ratio'] = missing_df['missing_count'] / df.shape[0]\n",
    "    missing_df=missing_df[missing_df['missing_ratio']>0]\n",
    "    missing_df=missing_df.sort_values(by=['missing_count'])\n",
    "    if missing_df.shape[0]>=20:\n",
    "        print(missing_df.iloc[-20:,])\n",
    "    elif missing_df.shape[0]>=10:\n",
    "        print(missing_df.iloc[-10:])\n",
    "    else:\n",
    "        print(missing_df)\n",
    "    if missing_df.shape[0]<5:\n",
    "        plt.figure(figsize=(2*missing_df.shape[0],6))\n",
    "    elif missing_df.shape[0]>5 and missing_df.shape[0]<15:\n",
    "        plt.figure(figsize=(12,10))\n",
    "    else:\n",
    "        plt.figure(figsize=(15,10))\n",
    "    result=missing_df\n",
    "    sns.set(style=\"white\", context=\"talk\")\n",
    "    sns.barplot( missing_df['missing_count'], missing_df['column_name'],palette=\"BuGn_d\")\n",
    "    return result\n",
    "state_dict = {\n",
    "        'AK': 'Alaska',\n",
    "        'AL': 'Alabama',\n",
    "        'AR': 'Arkansas',\n",
    "        'AS': 'American Samoa',\n",
    "        'AZ': 'Arizona',\n",
    "        'CA': 'California',\n",
    "        'CO': 'Colorado',\n",
    "        'CT': 'Connecticut',\n",
    "        'DC': 'District of Columbia',\n",
    "        'DE': 'Delaware',\n",
    "        'FL': 'Florida',\n",
    "        'GA': 'Georgia',\n",
    "        'GU': 'Guam',\n",
    "        'HI': 'Hawaii',\n",
    "        'IA': 'Iowa',\n",
    "        'ID': 'Idaho',\n",
    "        'IL': 'Illinois',\n",
    "        'IN': 'Indiana',\n",
    "        'KS': 'Kansas',\n",
    "        'KY': 'Kentucky',\n",
    "        'LA': 'Louisiana',\n",
    "        'MA': 'Massachusetts',\n",
    "        'MD': 'Maryland',\n",
    "        'ME': 'Maine',\n",
    "        'MI': 'Michigan',\n",
    "        'MN': 'Minnesota',\n",
    "        'MO': 'Missouri',\n",
    "        'MP': 'Northern Mariana Islands',\n",
    "        'MS': 'Mississippi',\n",
    "        'MT': 'Montana',\n",
    "        'NA': 'National',\n",
    "        'NC': 'North Carolina',\n",
    "        'ND': 'North Dakota',\n",
    "        'NE': 'Nebraska',\n",
    "        'NH': 'New Hampshire',\n",
    "        'NJ': 'New Jersey',\n",
    "        'NM': 'New Mexico',\n",
    "        'NV': 'Nevada',\n",
    "        'NY': 'New York',\n",
    "        'OH': 'Ohio',\n",
    "        'OK': 'Oklahoma',\n",
    "        'OR': 'Oregon',\n",
    "        'PA': 'Pennsylvania',\n",
    "        'PR': 'Puerto Rico',\n",
    "        'RI': 'Rhode Island',\n",
    "        'SC': 'South Carolina',\n",
    "        'SD': 'South Dakota',\n",
    "        'TN': 'Tennessee',\n",
    "        'TX': 'Texas',\n",
    "        'UT': 'Utah',\n",
    "        'VA': 'Virginia',\n",
    "        'VI': 'Virgin Islands',\n",
    "        'VT': 'Vermont',\n",
    "        'WA': 'Washington',\n",
    "        'WI': 'Wisconsin',\n",
    "        'WV': 'West Virginia',\n",
    "        'WY': 'Wyoming'\n",
    "}\n",
    "extra_data1=pd.read_csv('./extra_feature1.csv')\n",
    "extra_data2=pd.read_csv('./extra_features.csv')\n",
    "extra_data2['state']=extra_data2['state'].str.upper()\n",
    "extra_data2['state']=extra_data2['state'].map(state_dict)\n",
    "extra_data1=extra_data1.dropna(axis=1,thresh=int(extra_data1.shape[0]*0.3))\n",
    "extra_data2=extra_data2.dropna(axis=1,thresh=int(extra_data2.shape[0]*0.3))"
   ]
  },
  {
   "cell_type": "code",
   "execution_count": 4,
   "metadata": {
    "collapsed": true
   },
   "outputs": [],
   "source": [
    "extra_data1.to_csv('extra_feature1.csv',index=False)\n",
    "extra_data2.to_csv('extra_feature2.csv',index=False)"
   ]
  },
  {
   "cell_type": "code",
   "execution_count": 18,
   "metadata": {
    "collapsed": true
   },
   "outputs": [],
   "source": [
    "gdp=pd.read_csv('gdp_all_year.csv')\n",
    "pce=pd.read_csv('pce_all_year.csv')\n",
    "pi=pd.read_csv('pi_all_year.csv')\n",
    "target=pd.read_csv('target.csv')"
   ]
  },
  {
   "cell_type": "code",
   "execution_count": 10,
   "metadata": {
    "collapsed": true
   },
   "outputs": [],
   "source": [
    "#gdp=gdp.loc[gdp.year<=2014,:]"
   ]
  },
  {
   "cell_type": "code",
   "execution_count": 24,
   "metadata": {},
   "outputs": [
    {
     "data": {
      "text/plain": [
       "Index(['GeoName', 'year', 'Compensation of employees',\n",
       "       'Gross domestic product (GDP) by state', 'Gross operating surplus',\n",
       "       'Per capita real GDP by state',\n",
       "       'Quantity indexes for real GDP by state', 'Real GDP by state',\n",
       "       'Subsidies', 'Taxes on production and imports',\n",
       "       'Taxes on production and imports less subsidies'],\n",
       "      dtype='object')"
      ]
     },
     "execution_count": 24,
     "metadata": {},
     "output_type": "execute_result"
    }
   ],
   "source": [
    "gdp.columns"
   ]
  },
  {
   "cell_type": "code",
   "execution_count": 48,
   "metadata": {
    "collapsed": true
   },
   "outputs": [],
   "source": [
    "gdp=gdp.replace('(NA)',np.nan)\n",
    "gdp_clean_list=['Compensation of employees','Subsidies','Taxes on production and imports','Gross operating surplus']\n",
    "gdp.loc[:,gdp_clean_list]=gdp.loc[:,gdp_clean_list].astype(float)\n",
    "#drop real gdp"
   ]
  },
  {
   "cell_type": "code",
   "execution_count": 75,
   "metadata": {
    "collapsed": true
   },
   "outputs": [],
   "source": [
    "#pce.corr()\n",
    "#pce correlation acceptable"
   ]
  },
  {
   "cell_type": "code",
   "execution_count": 30,
   "metadata": {
    "collapsed": true
   },
   "outputs": [],
   "source": [
    "dfs = [gdp, pce, pi]\n",
    "from functools import reduce\n",
    "df_final = reduce(lambda left,right: pd.merge(left,right,on=['GeoName','year']), dfs)"
   ]
  },
  {
   "cell_type": "code",
   "execution_count": 17,
   "metadata": {},
   "outputs": [
    {
     "data": {
      "text/html": [
       "<div>\n",
       "<style>\n",
       "    .dataframe thead tr:only-child th {\n",
       "        text-align: right;\n",
       "    }\n",
       "\n",
       "    .dataframe thead th {\n",
       "        text-align: left;\n",
       "    }\n",
       "\n",
       "    .dataframe tbody tr th {\n",
       "        vertical-align: top;\n",
       "    }\n",
       "</style>\n",
       "<table border=\"1\" class=\"dataframe\">\n",
       "  <thead>\n",
       "    <tr style=\"text-align: right;\">\n",
       "      <th></th>\n",
       "      <th>GeoName</th>\n",
       "      <th>year</th>\n",
       "      <th>Compensation of employees</th>\n",
       "      <th>Gross domestic product (GDP) by state</th>\n",
       "      <th>Gross operating surplus</th>\n",
       "      <th>Per capita real GDP by state</th>\n",
       "      <th>Quantity indexes for real GDP by state</th>\n",
       "      <th>Real GDP by state</th>\n",
       "      <th>Subsidies</th>\n",
       "      <th>Taxes on production and imports</th>\n",
       "      <th>...</th>\n",
       "      <th>Income taxes (net of refunds)</th>\n",
       "      <th>Other taxes</th>\n",
       "      <th>Other taxes</th>\n",
       "      <th>Federal government</th>\n",
       "      <th>Less: Personal current taxes</th>\n",
       "      <th>Local governments</th>\n",
       "      <th>State and local personal property taxes</th>\n",
       "      <th>State governments</th>\n",
       "      <th>Equals: Disposable personal income</th>\n",
       "      <th>Personal current taxes</th>\n",
       "    </tr>\n",
       "  </thead>\n",
       "  <tbody>\n",
       "    <tr>\n",
       "      <th>0</th>\n",
       "      <td>Alabama</td>\n",
       "      <td>1997</td>\n",
       "      <td>61240</td>\n",
       "      <td>104309.0</td>\n",
       "      <td>36814</td>\n",
       "      <td>31465.0</td>\n",
       "      <td>81.042</td>\n",
       "      <td>137437.0</td>\n",
       "      <td>-328</td>\n",
       "      <td>6582</td>\n",
       "      <td>...</td>\n",
       "      <td>8558198.0</td>\n",
       "      <td>40573.0</td>\n",
       "      <td>15957.0</td>\n",
       "      <td>8558198.0</td>\n",
       "      <td>10612417.0</td>\n",
       "      <td>136089.0</td>\n",
       "      <td>44757.0</td>\n",
       "      <td>1873373.0</td>\n",
       "      <td>83209782.0</td>\n",
       "      <td>10612417.0</td>\n",
       "    </tr>\n",
       "    <tr>\n",
       "      <th>1</th>\n",
       "      <td>Alaska</td>\n",
       "      <td>1997</td>\n",
       "      <td>12205</td>\n",
       "      <td>25763.0</td>\n",
       "      <td>11234</td>\n",
       "      <td>62577.0</td>\n",
       "      <td>75.935</td>\n",
       "      <td>38358.0</td>\n",
       "      <td>-62</td>\n",
       "      <td>2386</td>\n",
       "      <td>...</td>\n",
       "      <td>1797971.0</td>\n",
       "      <td>1705.0</td>\n",
       "      <td>15139.0</td>\n",
       "      <td>1797971.0</td>\n",
       "      <td>1844364.0</td>\n",
       "      <td>4999.0</td>\n",
       "      <td>2786.0</td>\n",
       "      <td>38608.0</td>\n",
       "      <td>15203610.0</td>\n",
       "      <td>1844364.0</td>\n",
       "    </tr>\n",
       "    <tr>\n",
       "      <th>2</th>\n",
       "      <td>Arizona</td>\n",
       "      <td>1997</td>\n",
       "      <td>69886</td>\n",
       "      <td>132795.0</td>\n",
       "      <td>54249</td>\n",
       "      <td>34485.0</td>\n",
       "      <td>67.195</td>\n",
       "      <td>163353.0</td>\n",
       "      <td>-383</td>\n",
       "      <td>9044</td>\n",
       "      <td>...</td>\n",
       "      <td>10868970.0</td>\n",
       "      <td>16187.0</td>\n",
       "      <td>21430.0</td>\n",
       "      <td>10868970.0</td>\n",
       "      <td>12903928.0</td>\n",
       "      <td>17978.0</td>\n",
       "      <td>163562.0</td>\n",
       "      <td>1853418.0</td>\n",
       "      <td>94533284.0</td>\n",
       "      <td>12903928.0</td>\n",
       "    </tr>\n",
       "    <tr>\n",
       "      <th>3</th>\n",
       "      <td>Arkansas</td>\n",
       "      <td>1997</td>\n",
       "      <td>32852</td>\n",
       "      <td>60248.0</td>\n",
       "      <td>23415</td>\n",
       "      <td>30470.0</td>\n",
       "      <td>79.178</td>\n",
       "      <td>79256.0</td>\n",
       "      <td>-298</td>\n",
       "      <td>4279</td>\n",
       "      <td>...</td>\n",
       "      <td>4292918.0</td>\n",
       "      <td>3048.0</td>\n",
       "      <td>22535.0</td>\n",
       "      <td>4292918.0</td>\n",
       "      <td>5709269.0</td>\n",
       "      <td>3048.0</td>\n",
       "      <td>30510.0</td>\n",
       "      <td>1382793.0</td>\n",
       "      <td>46699786.0</td>\n",
       "      <td>5709269.0</td>\n",
       "    </tr>\n",
       "    <tr>\n",
       "      <th>4</th>\n",
       "      <td>California</td>\n",
       "      <td>1997</td>\n",
       "      <td>574394</td>\n",
       "      <td>1082051.0</td>\n",
       "      <td>441963</td>\n",
       "      <td>41314.0</td>\n",
       "      <td>70.134</td>\n",
       "      <td>1342133.0</td>\n",
       "      <td>-5725</td>\n",
       "      <td>71419</td>\n",
       "      <td>...</td>\n",
       "      <td>93479407.0</td>\n",
       "      <td>319603.0</td>\n",
       "      <td>69778.0</td>\n",
       "      <td>93479407.0</td>\n",
       "      <td>120765010.0</td>\n",
       "      <td>319603.0</td>\n",
       "      <td>1362268.0</td>\n",
       "      <td>25603732.0</td>\n",
       "      <td>761138752.0</td>\n",
       "      <td>120765010.0</td>\n",
       "    </tr>\n",
       "  </tbody>\n",
       "</table>\n",
       "<p>5 rows × 192 columns</p>\n",
       "</div>"
      ],
      "text/plain": [
       "      GeoName  year Compensation of employees  \\\n",
       "0     Alabama  1997                     61240   \n",
       "1      Alaska  1997                     12205   \n",
       "2     Arizona  1997                     69886   \n",
       "3    Arkansas  1997                     32852   \n",
       "4  California  1997                    574394   \n",
       "\n",
       "   Gross domestic product (GDP) by state Gross operating surplus  \\\n",
       "0                               104309.0                   36814   \n",
       "1                                25763.0                   11234   \n",
       "2                               132795.0                   54249   \n",
       "3                                60248.0                   23415   \n",
       "4                              1082051.0                  441963   \n",
       "\n",
       "   Per capita real GDP by state  Quantity indexes for real GDP by state  \\\n",
       "0                       31465.0                                  81.042   \n",
       "1                       62577.0                                  75.935   \n",
       "2                       34485.0                                  67.195   \n",
       "3                       30470.0                                  79.178   \n",
       "4                       41314.0                                  70.134   \n",
       "\n",
       "   Real GDP by state Subsidies Taxes on production and imports  \\\n",
       "0           137437.0      -328                            6582   \n",
       "1            38358.0       -62                            2386   \n",
       "2           163353.0      -383                            9044   \n",
       "3            79256.0      -298                            4279   \n",
       "4          1342133.0     -5725                           71419   \n",
       "\n",
       "            ...           Income taxes (net of refunds)   Other taxes  \\\n",
       "0           ...                                8558198.0      40573.0   \n",
       "1           ...                                1797971.0       1705.0   \n",
       "2           ...                               10868970.0      16187.0   \n",
       "3           ...                                4292918.0       3048.0   \n",
       "4           ...                               93479407.0     319603.0   \n",
       "\n",
       "   Other taxes   Federal government   Less: Personal current taxes  \\\n",
       "0       15957.0            8558198.0                    10612417.0   \n",
       "1       15139.0            1797971.0                     1844364.0   \n",
       "2       21430.0           10868970.0                    12903928.0   \n",
       "3       22535.0            4292918.0                     5709269.0   \n",
       "4       69778.0           93479407.0                   120765010.0   \n",
       "\n",
       "   Local governments  State and local personal property taxes  \\\n",
       "0           136089.0                                  44757.0   \n",
       "1             4999.0                                   2786.0   \n",
       "2            17978.0                                 163562.0   \n",
       "3             3048.0                                  30510.0   \n",
       "4           319603.0                                1362268.0   \n",
       "\n",
       "   State governments  Equals: Disposable personal income  \\\n",
       "0          1873373.0                          83209782.0   \n",
       "1            38608.0                          15203610.0   \n",
       "2          1853418.0                          94533284.0   \n",
       "3          1382793.0                          46699786.0   \n",
       "4         25603732.0                         761138752.0   \n",
       "\n",
       "   Personal current taxes  \n",
       "0              10612417.0  \n",
       "1               1844364.0  \n",
       "2              12903928.0  \n",
       "3               5709269.0  \n",
       "4             120765010.0  \n",
       "\n",
       "[5 rows x 192 columns]"
      ]
     },
     "execution_count": 17,
     "metadata": {},
     "output_type": "execute_result"
    }
   ],
   "source": [
    "df_final.head(5)"
   ]
  },
  {
   "cell_type": "code",
   "execution_count": 31,
   "metadata": {
    "collapsed": true
   },
   "outputs": [],
   "source": [
    "target=target.groupby(['state','year']).sum().reset_index()\n",
    "df_final=pd.merge(df_final,target,left_on=['GeoName','year'],right_on=['state','year'])"
   ]
  },
  {
   "cell_type": "code",
   "execution_count": 33,
   "metadata": {
    "collapsed": true
   },
   "outputs": [],
   "source": [
    "df_final.to_csv('all_year.csv',index=False)"
   ]
  },
  {
   "cell_type": "code",
   "execution_count": 2,
   "metadata": {
    "collapsed": true
   },
   "outputs": [],
   "source": [
    "import os\n",
    "file_list=os.listdir('C:/Users/ttodd/OneDrive/Desktop/capstone/industry/')\n",
    "industry.columns=['Year', 'State', 'firm type', 'NAICS', 'Total','<20', '20-99', '100-499', '500+', '<500']\n",
    "industry_fillna=industry.loc[:,['Year','State','firm type']]\n",
    "industry_fillna=industry_fillna.fillna(method='ffill')\n",
    "industry.loc[:,['Year','State','firm type']]=industry_fillna\n",
    "industry.to_csv('industry_target.csv',index=False)"
   ]
  },
  {
   "cell_type": "code",
   "execution_count": 3,
   "metadata": {
    "collapsed": true
   },
   "outputs": [],
   "source": []
  },
  {
   "cell_type": "code",
   "execution_count": 33,
   "metadata": {
    "collapsed": true
   },
   "outputs": [],
   "source": []
  },
  {
   "cell_type": "code",
   "execution_count": 35,
   "metadata": {
    "collapsed": true
   },
   "outputs": [],
   "source": []
  },
  {
   "cell_type": "code",
   "execution_count": 23,
   "metadata": {},
   "outputs": [
    {
     "data": {
      "text/plain": [
       "Veterans' benefits                                                                        Supplemental Nutrition Assistance Program (SNAP)                                            8.999955e-01\n",
       "Supplemental Nutrition Assistance Program (SNAP)                                          Veterans' benefits                                                                          8.999955e-01\n",
       "Real GDP by state                                                                         Earned Income Tax Credit (EITC)                                                             8.999320e-01\n",
       "Earned Income Tax Credit (EITC)                                                           Real GDP by state                                                                           8.999320e-01\n",
       "pce Less: Receipts from sales of goods and services by nonprofit institutions             Per capita net earnings                                                                     8.997622e-01\n",
       "Per capita net earnings                                                                   pce Less: Receipts from sales of goods and services by nonprofit institutions               8.997622e-01\n",
       "Monetary rent                                                                             Less: Contributions for government social insurance                                         8.997057e-01\n",
       "Less: Contributions for government social insurance                                       Monetary rent                                                                               8.997057e-01\n",
       "Per capita personal current transfer receipts                                             year                                                                                        8.997042e-01\n",
       "year                                                                                      Per capita personal current transfer receipts                                               8.997042e-01\n",
       "Medicaid                                                                                  Receipts from the Federal government                                                        8.994615e-01\n",
       "Receipts from the Federal government                                                      Medicaid                                                                                    8.994615e-01\n",
       "Social Security benefits                                                                  Public assistance medical care benefits                                                     8.994229e-01\n",
       "Public assistance medical care benefits                                                   Social Security benefits                                                                    8.994229e-01\n",
       "Other income maintenance benefits                                                         Wage and salary employment                                                                  8.994112e-01\n",
       "Wage and salary employment                                                                Other income maintenance benefits                                                           8.994112e-01\n",
       "Rental income of persons                                                                  Supplements to wages and salaries                                                           8.993871e-01\n",
       "Supplements to wages and salaries                                                         Rental income of persons                                                                    8.993871e-01\n",
       "Rental income of persons                                                                  Supplements to wages and salaries                                                           8.993871e-01\n",
       "Supplements to wages and salaries                                                         Rental income of persons                                                                    8.993871e-01\n",
       "Income taxes (gross)                                                                      Education and training assistance 1                                                         8.991741e-01\n",
       "Education and training assistance 1                                                       Income taxes (gross)                                                                        8.991741e-01\n",
       "pce  Nondurable goods                                                                     pcePersonal consumption expenditures                                                        8.990155e-01\n",
       "pcePersonal consumption expenditures                                                      pce  Nondurable goods                                                                       8.990155e-01\n",
       "Earned Income Tax Credit (EITC)                                                           Employer contributions for employee pension and insurance funds                             8.988977e-01\n",
       "Employer contributions for employee pension and insurance funds                           Earned Income Tax Credit (EITC)                                                             8.988977e-01\n",
       "Nonfarm proprietors' income                                                               Excluding family assistance                                                                 8.988679e-01\n",
       "Excluding family assistance                                                               Nonfarm proprietors' income                                                                 8.988679e-01\n",
       "Education and training assistance 1                                                       Monetary rent                                                                               8.987846e-01\n",
       "Monetary rent                                                                             Education and training assistance 1                                                         8.987846e-01\n",
       "                                                                                                                                                                                          ...     \n",
       "Equals: Net income including corporate farms                                              pce  Nondurable goods                                                                       6.371029e-04\n",
       "pce  Nondurable goods                                                                     Equals: Net income including corporate farms                                                6.371029e-04\n",
       "Farm proprietors' income                                                                  pce Gross output of nonprofit institutions                                                  5.646665e-04\n",
       "Equals: Farm proprietors' income                                                          pce Gross output of nonprofit institutions                                                  5.646665e-04\n",
       "pce Gross output of nonprofit institutions                                                Farm proprietors' income                                                                    5.646665e-04\n",
       "                                                                                          Equals: Farm proprietors' income                                                            5.646665e-04\n",
       "Tobacco                                                                                   Plus: Adjustment for residence                                                              4.029911e-04\n",
       "Plus: Adjustment for residence                                                            Tobacco                                                                                     4.029911e-04\n",
       "All other production expenses                                                             pce  Housing and utilities                                                                  3.948007e-04\n",
       "pce  Housing and utilities                                                                All other production expenses                                                               3.948007e-04\n",
       "Plus: Farm supplements to wages and salaries                                              Per capita retirement and other                                                             3.860243e-04\n",
       "Per capita retirement and other                                                           Plus: Farm supplements to wages and salaries                                                3.860243e-04\n",
       "Tobacco                                                                                   Petroleum products purchased                                                                2.798918e-04\n",
       "Petroleum products purchased                                                              Tobacco                                                                                     2.798918e-04\n",
       "pce  Durable goods                                                                        Wage and salary employment                                                                  2.786850e-04\n",
       "Wage and salary employment                                                                pce  Durable goods                                                                          2.786850e-04\n",
       "Less: Refunds                                                                             pce Final consumption expenditures of nonprofit institutions serving households (NPISHs)    2.083297e-04\n",
       "pce Final consumption expenditures of nonprofit institutions serving households (NPISHs)  Less: Refunds                                                                               2.083297e-04\n",
       "Plus: Adjustment for residence                                                            pce  Housing and utilities                                                                  1.979113e-04\n",
       "pce  Housing and utilities                                                                Plus: Adjustment for residence                                                              1.979113e-04\n",
       "pce   Gasoline and other energy goods                                                     Veterans' readjustment benefits                                                             1.689042e-04\n",
       "Veterans' readjustment benefits                                                           pce   Gasoline and other energy goods                                                       1.689042e-04\n",
       "Hay, silage, etc.                                                                         pce  Nondurable goods                                                                       1.433062e-04\n",
       "pce  Nondurable goods                                                                     Hay, silage, etc.                                                                           1.433062e-04\n",
       "Livestock purchased                                                                       State governments                                                                           1.276157e-04\n",
       "State governments                                                                         Livestock purchased                                                                         1.276157e-04\n",
       "Quantity indexes for real GDP by state                                                    Plus: Adjustment for residence                                                              8.908612e-05\n",
       "Plus: Adjustment for residence                                                            Quantity indexes for real GDP by state                                                      8.908612e-05\n",
       "Tobacco                                                                                   Other income maintenance benefits                                                           1.497720e-07\n",
       "Other income maintenance benefits                                                         Tobacco                                                                                     1.497720e-07\n",
       "Length: 24762, dtype: float64"
      ]
     },
     "execution_count": 23,
     "metadata": {},
     "output_type": "execute_result"
    }
   ],
   "source": [
    "core = df_final.corr() # df is the pandas dataframe\n",
    "c1 = core.abs().unstack()\n",
    "c1=c1[c1<=0.9]\n",
    "c1.sort_values(ascending = False)"
   ]
  },
  {
   "cell_type": "code",
   "execution_count": 4,
   "metadata": {
    "collapsed": true
   },
   "outputs": [],
   "source": [
    "test_df=pd.read_csv('./households_housing_infrastructure_internet_investment_jobs_legal_manufacturing_military_nondurable goods_private_railroad.csv')\n",
    "drop_list=['New Private Housing Units Authorized by Building Permits: 1-Unit Structures _y',\n",
    "           'Durable Manufacturing Wages and Salaries ','Nondurable Manufacturing Wages and Salaries ']\n",
    "test_df=test_df.drop(drop_list,axis=1)\n",
    "test_df.to_csv('house_manu.csv',index=False)\n",
    "test1=pd.read_csv('./wholesale_utilities_natural resources_advanced degree_air travel_arts_benefits_business_capital_commuting time_consumer_corporate_credits_deposits_education_energy_equipment_financial.csv')\n",
    "test1_col=['state','year','New Private Housing Units Authorized by Building Permits _x','Homeownership Rate ', 'Home Vacancy Rate ', 'Median Household Income ',\n",
    "       'All-Transactions House Price Index ','Job Losers and Persons Who Completed Temporary Jobs, as a Percent of the Civilian Labor Force ']\n",
    "test_df=test_df.loc[:,test1_col]\n",
    "test_df.columns=['state','year','New Private Housing Units Authorized by Building Permits','Homeownership Rate ', 'Home Vacancy Rate ', 'Median Household Income ',\n",
    "       'All-Transactions House Price Index ','Job Losers and Persons Who Completed Temporary Jobs, as a Percent of the Civilian Labor Force ']\n",
    "test2_col=['year',\n",
    "       'state', 'CredAbility Consumer Distress Index  (DISCONTINUED)',\n",
    "       'State Government Tax Collections, Corporation Net Income Taxes in Wisconsin','High School Graduate or Higher ',\n",
    "       'People 25 Years and Over Who Have Completed an Advanced Degree ',\n",
    "       'State Unemployment Benefits ',\n",
    "       'Transfers less State Unemployment Benefits  (DISCONTINUED)',\n",
    "       'Total Equity Capital for Commercial Banks ',\n",
    "       'State Government Tax Collections, Public Utilities - Selective Sales Taxes ',\n",
    " ]\n",
    "test1=test1.loc[:,test2_col]\n",
    "final=pd.merge(test1,test_df,on=['state','year'],how='outer')\n",
    "drop_na_thred=int(final.shape[0]*0.5)\n",
    "final=final.dropna(axis=1,thresh=drop_na_thred)"
   ]
  },
  {
   "cell_type": "code",
   "execution_count": 6,
   "metadata": {
    "collapsed": true
   },
   "outputs": [],
   "source": [
    "final.to_csv('extra_features.csv',index=False)"
   ]
  }
 ],
 "metadata": {
  "kernelspec": {
   "display_name": "Python 3",
   "language": "python",
   "name": "python3"
  },
  "language_info": {
   "codemirror_mode": {
    "name": "ipython",
    "version": 3
   },
   "file_extension": ".py",
   "mimetype": "text/x-python",
   "name": "python",
   "nbconvert_exporter": "python",
   "pygments_lexer": "ipython3",
   "version": "3.6.3"
  }
 },
 "nbformat": 4,
 "nbformat_minor": 2
}
