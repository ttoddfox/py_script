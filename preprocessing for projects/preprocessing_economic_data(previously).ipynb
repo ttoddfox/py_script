{
 "cells": [
  {
   "cell_type": "code",
   "execution_count": 2,
   "metadata": {},
   "outputs": [
    {
     "data": {
      "text/plain": [
       "'D:\\\\python_notebook\\\\capstone'"
      ]
     },
     "execution_count": 2,
     "metadata": {},
     "output_type": "execute_result"
    }
   ],
   "source": [
    "import pandas as pd\n",
    "import os\n",
    "os.getcwd()"
   ]
  },
  {
   "cell_type": "code",
   "execution_count": 3,
   "metadata": {},
   "outputs": [
    {
     "name": "stdout",
     "output_type": "stream",
     "text": [
      "10year_treasury.csv\n",
      "(1305, 2)\n",
      "3month_libor.csv\n",
      "(1305, 2)\n",
      "bop.csv\n",
      "(319, 2)\n",
      "cpi.csv\n",
      "(57, 2)\n",
      "DJIA.csv\n",
      "(1305, 2)\n",
      "export_good_service.csv\n",
      "(286, 2)\n",
      "GDPC1.csv\n",
      "(286, 2)\n",
      "gross_private_savin.csv\n",
      "(286, 2)\n",
      "household median income.csv\n",
      "(34, 2)\n",
      "import_good_service.csv\n",
      "(286, 2)\n",
      "NASDAQCOM.csv\n",
      "(1305, 2)\n",
      "national income.csv\n",
      "(286, 2)\n",
      "personal_saving_rate.csv\n",
      "(716, 2)\n",
      "SP500.csv\n",
      "(1305, 2)\n",
      "unemployment.csv\n",
      "(848, 2)\n"
     ]
    }
   ],
   "source": [
    "files=os.listdir()\n",
    "for i in files:\n",
    "    if i.endswith('.csv'):\n",
    "        temp_data=pd.read_csv(i)\n",
    "        print(i)\n",
    "        print(temp_data.shape)"
   ]
  },
  {
   "cell_type": "code",
   "execution_count": 4,
   "metadata": {
    "collapsed": true
   },
   "outputs": [],
   "source": [
    "def convert_to_year(df):\n",
    "    df['year']=[x[0:4] for x in df['DATE']]\n",
    "    year_data=df.groupby('year').mean()\n",
    "    year_data['year']=year_data.index\n",
    "    year_data=year_data.reindex(columns=['year']+year_data.columns[:-1].tolist())\n",
    "    year_data=year_data.reset_index(drop=True)\n",
    "    return year_data"
   ]
  },
  {
   "cell_type": "code",
   "execution_count": 8,
   "metadata": {},
   "outputs": [],
   "source": [
    "libor=pd.read_csv('3month_libor.csv')"
   ]
  },
  {
   "cell_type": "code",
   "execution_count": 55,
   "metadata": {},
   "outputs": [],
   "source": [
    "def season_to_year(df):\n",
    "    year_data=df[df['DATE'].str.contains('[0-9]{4}-01-01')]\n",
    "    year_data=year_data.loc[df['DATE']>='1997-01-01',:]\n",
    "    year_data=year_data.loc[df['DATE']<='2015-01-01',:]\n",
    "    return year_data\n"
   ]
  },
  {
   "cell_type": "code",
   "execution_count": 56,
   "metadata": {},
   "outputs": [],
   "source": [
    "psr=pd.read_csv('personal_saving_rate.csv')\n",
    "psr=season_to_year(psr)"
   ]
  },
  {
   "cell_type": "code",
   "execution_count": 57,
   "metadata": {},
   "outputs": [],
   "source": [
    "psr.to_csv('C:/Users/ttodd/OneDrive/Desktop/capstone/psr.csv')"
   ]
  }
 ],
 "metadata": {
  "kernelspec": {
   "display_name": "Python 3",
   "language": "python",
   "name": "python3"
  },
  "language_info": {
   "codemirror_mode": {
    "name": "ipython",
    "version": 3
   },
   "file_extension": ".py",
   "mimetype": "text/x-python",
   "name": "python",
   "nbconvert_exporter": "python",
   "pygments_lexer": "ipython3",
   "version": "3.6.3"
  }
 },
 "nbformat": 4,
 "nbformat_minor": 2
}
