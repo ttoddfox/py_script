{
 "cells": [
  {
   "cell_type": "code",
   "execution_count": 1,
   "metadata": {
    "collapsed": true
   },
   "outputs": [],
   "source": [
    "from fredapi import Fred\n",
    "import warnings\n",
    "warnings.filterwarnings('ignore')\n",
    "from fred import Fred\n",
    "import pandas as pd\n",
    "import re\n",
    "import time\n",
    "from functools import reduce"
   ]
  },
  {
   "cell_type": "code",
   "execution_count": 2,
   "metadata": {
    "collapsed": true
   },
   "outputs": [],
   "source": [
    "fr = Fred(api_key='f13196245a409ee3db300071145818eb',response_type='dict')\n",
    "all_tags=pd.DataFrame(fr.tag.tags())\n",
    "tag_name=all_tags['name']\n",
    "related_tag=pd.DataFrame(fr.tag.related_tags('al'))\n",
    "tag=related_tag['name'].sort_values()\n",
    "#tag.to_csv('tag.csv')\n",
    "#tag_name.sort_values()[150:200]"
   ]
  },
  {
   "cell_type": "code",
   "execution_count": 62,
   "metadata": {
    "collapsed": true
   },
   "outputs": [],
   "source": [
    "state_list=[\"Alabama\",\"Alaska\",\"Arizona\",\"Arkansas\",\"California\",\"Colorado\",\n",
    "  \"Connecticut\",\"Delaware\",'District of Columbia',\"Florida\",\"Georgia\",\"Hawaii\",\"Idaho\",\"Illinois\",\n",
    "  \"Indiana\",\"Iowa\",\"Kansas\",\"Kentucky\",\"Louisiana\",\"Maine\",\"Maryland\",\n",
    "  \"Massachusetts\",\"Michigan\",\"Minnesota\",\"Mississippi\",\"Missouri\",\"Montana\",\n",
    "  \"Nebraska\",\"Nevada\",\"New Hampshire\",\"New Jersey\",\"New Mexico\",\"New York\",\n",
    "  \"North Carolina\",\"North Dakota\",\"Ohio\",\"Oklahoma\",\"Oregon\",\"Pennsylvania\",\n",
    "  \"Rhode Island\",\"South Carolina\",\"South Dakota\",\"Tennessee\",\"Texas\",\"Utah\",\n",
    "  \"Vermont\",\"Virginia\",\"Washington\",\"West Virginia\",\"Wisconsin\",\"Wyoming\"]\n",
    "states = [\"AL\", \"AK\", \"AZ\", \"AR\", \"CA\", \"CO\", \"CT\", \"DC\", \"DE\", \"FL\", \"GA\", \n",
    "          \"HI\", \"ID\", \"IL\", \"IN\", \"IA\", \"KS\", \"KY\", \"LA\", \"ME\", \"MD\", \n",
    "          \"MA\", \"MI\", \"MN\", \"MS\", \"MO\", \"MT\", \"NE\", \"NV\", \"NH\", \"NJ\", \n",
    "          \"NM\", \"NY\", \"NC\", \"ND\", \"OH\", \"OK\", \"OR\", \"PA\", \"RI\", \"SC\", \n",
    "          \"SD\", \"TN\", \"TX\", \"UT\", \"VT\", \"VA\", \"WA\", \"WV\", \"WI\", \"WY\"]\n",
    "states=[x.lower() for x in states]"
   ]
  },
  {
   "cell_type": "code",
   "execution_count": 115,
   "metadata": {
    "collapsed": true
   },
   "outputs": [],
   "source": [
    "def get_series_df(series_id,title,frequency,state):\n",
    "    df=pd.DataFrame(fr.series.observations(series_id))\n",
    "    df=df.loc[:,['date','value']]\n",
    "    df.columns=['date',title]\n",
    "    df['year']=[x.year for x in df['date']]\n",
    "    if frequency=='A':\n",
    "        df=df.loc[:,['year',title]]\n",
    "    if frequency=='Q':\n",
    "        df['month']=[x.month for x in df['date']]\n",
    "        df=df.loc[df['month']==1,:]\n",
    "        df=df.loc[:,['year',title]]\n",
    "    if frequency=='M':\n",
    "        df['month']=[x.month for x in df['date']]\n",
    "        df=df.loc[df['month']==1,:]\n",
    "        df=df.loc[:,['year',title]] \n",
    "    if frequency=='W':\n",
    "        df=df.groupby(['year'])[title].mean().reset_index()\n",
    "        df.columns=['year',title]\n",
    "    df['state']=state\n",
    "    df=df.loc[df['year']>=1992,:]\n",
    "    return df\n",
    "\n",
    "def merge_id_df(df):\n",
    "    df=df.reset_index(drop=True)\n",
    "    state_count=0\n",
    "    for i in range(df.shape[0]):\n",
    "        temp_id=df.loc[i,'id']\n",
    "        temp_df=get_series_df(temp_id,df.loc[i,'m_id'],df.loc[i,'frequency_short'],df.loc[i,'state'])\n",
    "        if state_count==0:\n",
    "            state_df=temp_df\n",
    "        else:\n",
    "            state_df=state_df.append(temp_df)\n",
    "        state_count=state_count+1   \n",
    "    #print(state_df.head(2))\n",
    "    state_df.columns=['year',df.loc[i,'title'],'state']\n",
    "    return state_df"
   ]
  },
  {
   "cell_type": "code",
   "execution_count": 20,
   "metadata": {
    "collapsed": true
   },
   "outputs": [],
   "source": [
    "tag_list=['exports']"
   ]
  },
  {
   "cell_type": "code",
   "execution_count": 36,
   "metadata": {
    "collapsed": true
   },
   "outputs": [],
   "source": [
    "tag_list1=['households','housing','infrastructure',\n",
    "          'internet','investment','jobs',\n",
    "          'legal','manufacturing','military',\n",
    "          'nondurable goods','private','railroad']"
   ]
  },
  {
   "cell_type": "code",
   "execution_count": 54,
   "metadata": {
    "collapsed": true
   },
   "outputs": [],
   "source": [
    "tag_list2=['cost','crime','deaths',\n",
    "          'family','food','fuels',\n",
    "          'machines','recreation','retail',\n",
    "          'retail trade','sale','sales taxes',\n",
    "          'single-parent','subprime','violent crime']"
   ]
  },
  {
   "cell_type": "code",
   "execution_count": 21,
   "metadata": {
    "collapsed": true
   },
   "outputs": [],
   "source": [
    "import re\n",
    "temp_tag_df_list=[]\n",
    "tag_df_list=[]\n",
    "divide_count=1\n",
    "for tag in tag_list:\n",
    "    state_count=0\n",
    "    for state in states:\n",
    "        #print(temp_search)\n",
    "        temp_search=state+';'+tag\n",
    "        try:\n",
    "            temp_df=pd.DataFrame(fr.tag.series(temp_search,order_by='popularity'))\n",
    "        except:\n",
    "            continue\n",
    "        if temp_df.shape[0]==0:\n",
    "            continue\n",
    "        temp_df['state']=state\n",
    "        temp_df['m_id']=[re.sub(state.upper(),'',x) for x in temp_df['id'] ]\n",
    "        temp_df=temp_df.loc[~temp_df['title'].str.contains(\n",
    "                'Gross Domestic Product|All Employees|Consumer Price Index|Personal Consumption|Number of Identified Exporters|Wages and Salaries'),:]\n",
    "        if state_count==0:\n",
    "            state_id_df=temp_df\n",
    "        else:\n",
    "            state_id_df=state_id_df.append(temp_df)\n",
    "        state_count+=1\n",
    "    if divide_count%3!=0:    \n",
    "        temp_tag_df_list.append(state_id_df)\n",
    "    else:\n",
    "        temp_tag_df_list.append(state_id_df)\n",
    "        tag_df_list.append(temp_tag_df_list)\n",
    "        temp_tag_df_list=[]\n",
    "    divide_count+=1"
   ]
  },
  {
   "cell_type": "code",
   "execution_count": null,
   "metadata": {},
   "outputs": [],
   "source": [
    "scrapy_data_list=[]\n",
    "tag_count=0\n",
    "for temp_df_list in tag_df_list:\n",
    "    for df in temp_df_list:\n",
    "        print(tag_list[tag_count])\n",
    "        tag_count+=1\n",
    "        get_id=df['m_id'].value_counts()\n",
    "        get_id=get_id[get_id>=30]\n",
    "        id_list=list(get_id.index)\n",
    "        temp_df=df.loc[df['m_id'].isin(id_list)]\n",
    "        print(temp_df.shape)\n",
    "        scrapy_data_list.append(temp_df)\n",
    "scrapy_final = reduce(lambda left,right: left.append(right),scrapy_data_list)\n",
    "scrapy_final=scrapy_final.reset_index(drop=True)"
   ]
  },
  {
   "cell_type": "code",
   "execution_count": 39,
   "metadata": {
    "collapsed": true
   },
   "outputs": [],
   "source": [
    "grouped=scrapy_final.groupby('m_id')\n",
    "group_count=0\n",
    "for name, group in grouped:\n",
    "    if group_count==0:\n",
    "        final_df=merge_id_df(group)\n",
    "    else:\n",
    "        temp_df=merge_id_df(group)\n",
    "        temp_df=temp_df.drop_duplicates()\n",
    "        final_df=pd.merge(final_df,temp_df,on=['state','year'],how='outer')\n",
    "        final_df=final_df.drop_duplicates()\n",
    "    group_count+=1\n",
    "final_df.columns=[re.sub('for Wyoming|in Wyoming','',x) for x in final_df.columns]\n",
    "#final_df.dropna(axis=1,thresh=1200)\n",
    "\n",
    "        \n",
    "    "
   ]
  },
  {
   "cell_type": "code",
   "execution_count": 48,
   "metadata": {
    "collapsed": true
   },
   "outputs": [],
   "source": [
    "column_to_use=['year',\n",
    "       'state',\n",
    "       'New Private Housing Units Authorized by Building Permits: 1-Unit Structures _y',\n",
    "       'New Private Housing Units Authorized by Building Permits _x',\n",
    "       'Durable Manufacturing Earnings ', 'Nondurable Manufacturing Earnings ',\n",
    "       'Homeownership Rate ', 'Home Vacancy Rate ', 'Median Household Income ',\n",
    "       'All-Transactions House Price Index ',\n",
    "       'Total Investment Securities at Book Value for Commercial Banks  (DISCONTINUED)',\n",
    "       'Job Losers and Persons Who Completed Temporary Jobs, as a Percent of the Civilian Labor Force ',\n",
    "       'Durable Manufacturing Wages and Salaries ',\n",
    "       'Nondurable Manufacturing Wages and Salaries ']"
   ]
  },
  {
   "cell_type": "code",
   "execution_count": 50,
   "metadata": {
    "collapsed": true
   },
   "outputs": [],
   "source": [
    "final_df=final_df.loc[:,column_to_use]\n",
    "print(final_df.shape)\n",
    "final_df_name=('_').join(tag_list1)\n",
    "final_df.to_csv(final_df_name+'.csv',index=False)"
   ]
  },
  {
   "cell_type": "code",
   "execution_count": 86,
   "metadata": {},
   "outputs": [],
   "source": [
    "test=pd.DataFrame(fr.series.observations('CAICLAIMS'))"
   ]
  },
  {
   "cell_type": "code",
   "execution_count": 96,
   "metadata": {
    "collapsed": true
   },
   "outputs": [],
   "source": [
    "test['month']=[x.month for x in test['date']]\n",
    "test['year']=[x.year for x in test['date']]"
   ]
  },
  {
   "cell_type": "code",
   "execution_count": null,
   "metadata": {
    "collapsed": true
   },
   "outputs": [],
   "source": []
  },
  {
   "cell_type": "code",
   "execution_count": 28,
   "metadata": {
    "collapsed": true
   },
   "outputs": [],
   "source": [
    "series_list=['PHCI','ICLAIMS','SLIND','POP','NIM','SLGRTAX','NP','CCLAIMS','HICCOVPCT','WLDA052SCEN','NUM','TISBV']\n",
    "series_list1=['STTMINWG','UNEMPLOY']\n",
    "series_list2=['CCDIOAOHQ156N','CHEXMOH39A647NCEN','M02110US000OHM398NNBR']"
   ]
  },
  {
   "cell_type": "code",
   "execution_count": 65,
   "metadata": {
    "collapsed": true
   },
   "outputs": [],
   "source": [
    "def generate_scrapy_df_by_series(series_id,previous_id):\n",
    "    scrapy_state_list=[]\n",
    "    for state in states:\n",
    "        if previous_id==1:\n",
    "            temp_state_id=state.upper()+series_id\n",
    "        else:\n",
    "            temp_state_id=series_id+state.upper()\n",
    "        scrapy_state_list.append(temp_state_id)\n",
    "    count=0\n",
    "    temp_state=state_list.copy()\n",
    "    for state_id in scrapy_state_list:\n",
    "        try:\n",
    "            temp_df=pd.DataFrame(fr.series.details(state_id))\n",
    "            temp_df=temp_df.loc[:,['frequency_short','id','title']]\n",
    "            if count==0:\n",
    "                final_df=temp_df\n",
    "            else:\n",
    "                final_df=final_df.append(temp_df) \n",
    "        except:\n",
    "            print(state_id)\n",
    "            temp_state.remove(state_list[count])\n",
    "        count=count+1\n",
    "    final_df['state']=temp_state\n",
    "    return final_df    \n",
    "def merge_series_df(df):\n",
    "    df=df.reset_index(drop=True)\n",
    "    state_count=0\n",
    "    final_title=df.loc[0,'title']\n",
    "    final_title=re.sub('Alabama','',final_title)\n",
    "    for i in range(df.shape[0]):\n",
    "        temp_id=df.loc[i,'id']\n",
    "        temp_df=get_series_df(temp_id,final_title,df.loc[i,'frequency_short'],df.loc[i,'state'])\n",
    "        if state_count==0:\n",
    "            state_df=temp_df\n",
    "        else:\n",
    "            state_df=state_df.append(temp_df)\n",
    "        state_count=state_count+1   \n",
    "    return state_df"
   ]
  },
  {
   "cell_type": "code",
   "execution_count": 127,
   "metadata": {},
   "outputs": [
    {
     "name": "stdout",
     "output_type": "stream",
     "text": [
      "(50, 3)\n",
      "50\n",
      "DCSLIND\n",
      "51\n",
      "(50, 3)\n",
      "50\n",
      "(51, 3)\n",
      "51\n",
      "(51, 3)\n",
      "51\n",
      "DCSLGRTAX\n",
      "51\n",
      "(50, 3)\n",
      "50\n",
      "(51, 3)\n",
      "51\n",
      "WICCLAIMS\n",
      "51\n",
      "(50, 3)\n",
      "50\n",
      "(51, 3)\n",
      "51\n",
      "(51, 3)\n",
      "51\n",
      "(51, 3)\n",
      "51\n",
      "(51, 3)\n",
      "51\n"
     ]
    }
   ],
   "source": [
    "count=0\n",
    "scrap_df_list=[]\n",
    "for m_id in series_list:\n",
    "    temp_scrap_df=generate_scrapy_df_by_series(m_id,1)\n",
    "    scrap_df_list.append(temp_scrap_df)\n",
    "\n",
    "    "
   ]
  },
  {
   "cell_type": "code",
   "execution_count": 122,
   "metadata": {},
   "outputs": [],
   "source": [
    "count=0\n",
    "for temp_scrap_df in scrap_df_list:    \n",
    "    temp_series_df=merge_series_df(temp_scrap_df)\n",
    "    temp_series_df=temp_series_df.drop_duplicates()\n",
    "    if count==0:\n",
    "        final_df=temp_series_df\n",
    "    else:\n",
    "        final_df=pd.merge(final_df,temp_series_df,on=['state','year'],how='outer')\n",
    "    count=count+1"
   ]
  },
  {
   "cell_type": "code",
   "execution_count": 124,
   "metadata": {},
   "outputs": [],
   "source": [
    "final_df.to_csv('extra_feature1.csv',index=False)"
   ]
  },
  {
   "cell_type": "code",
   "execution_count": null,
   "metadata": {
    "collapsed": true
   },
   "outputs": [],
   "source": []
  },
  {
   "cell_type": "code",
   "execution_count": 126,
   "metadata": {},
   "outputs": [
    {
     "data": {
      "text/html": [
       "<div>\n",
       "<style>\n",
       "    .dataframe thead tr:only-child th {\n",
       "        text-align: right;\n",
       "    }\n",
       "\n",
       "    .dataframe thead th {\n",
       "        text-align: left;\n",
       "    }\n",
       "\n",
       "    .dataframe tbody tr th {\n",
       "        vertical-align: top;\n",
       "    }\n",
       "</style>\n",
       "<table border=\"1\" class=\"dataframe\">\n",
       "  <thead>\n",
       "    <tr style=\"text-align: right;\">\n",
       "      <th></th>\n",
       "      <th>year</th>\n",
       "      <th>Coincident Economic Activity Index for</th>\n",
       "      <th>state</th>\n",
       "      <th>Initial Claims in</th>\n",
       "      <th>Leading Index for</th>\n",
       "      <th>Resident Population in</th>\n",
       "      <th>Net Interest Margin for Banks in</th>\n",
       "      <th>State Government Tax Collections, Total Sales and Gross Receipts Taxes in</th>\n",
       "      <th>Total Nonperforming Loans for Commercial Banks in</th>\n",
       "      <th>Continued Claims (Insured Unemployment) in</th>\n",
       "      <th>Health Insurance Coverage: Coverage Rate in  (DISCONTINUED)</th>\n",
       "      <th>Value of Exports to All Countries from</th>\n",
       "      <th>Commercial Banks in</th>\n",
       "      <th>Total Investment Securities at Book Value for Commercial Banks in  (DISCONTINUED)</th>\n",
       "    </tr>\n",
       "  </thead>\n",
       "  <tbody>\n",
       "    <tr>\n",
       "      <th>0</th>\n",
       "      <td>1992</td>\n",
       "      <td>68.67</td>\n",
       "      <td>Alabama</td>\n",
       "      <td>6830.442308</td>\n",
       "      <td>0.59</td>\n",
       "      <td>4139.269</td>\n",
       "      <td>4.71</td>\n",
       "      <td>2218884.0</td>\n",
       "      <td>293436</td>\n",
       "      <td>38284.403846</td>\n",
       "      <td>NaN</td>\n",
       "      <td>3.279424e+09</td>\n",
       "      <td>218</td>\n",
       "      <td>11553259.0</td>\n",
       "    </tr>\n",
       "    <tr>\n",
       "      <th>1</th>\n",
       "      <td>1993</td>\n",
       "      <td>70.09</td>\n",
       "      <td>Alabama</td>\n",
       "      <td>6887.307692</td>\n",
       "      <td>0.57</td>\n",
       "      <td>4193.114</td>\n",
       "      <td>4.83</td>\n",
       "      <td>2514799.0</td>\n",
       "      <td>237026</td>\n",
       "      <td>33402.403846</td>\n",
       "      <td>NaN</td>\n",
       "      <td>NaN</td>\n",
       "      <td>216</td>\n",
       "      <td>12051861.0</td>\n",
       "    </tr>\n",
       "    <tr>\n",
       "      <th>2</th>\n",
       "      <td>1994</td>\n",
       "      <td>72.70</td>\n",
       "      <td>Alabama</td>\n",
       "      <td>6004.924528</td>\n",
       "      <td>2.10</td>\n",
       "      <td>4232.965</td>\n",
       "      <td>5.24</td>\n",
       "      <td>2559992.0</td>\n",
       "      <td>216044</td>\n",
       "      <td>31312.056604</td>\n",
       "      <td>NaN</td>\n",
       "      <td>NaN</td>\n",
       "      <td>211</td>\n",
       "      <td>NaN</td>\n",
       "    </tr>\n",
       "    <tr>\n",
       "      <th>3</th>\n",
       "      <td>1995</td>\n",
       "      <td>75.75</td>\n",
       "      <td>Alabama</td>\n",
       "      <td>6809.673077</td>\n",
       "      <td>1.33</td>\n",
       "      <td>4262.731</td>\n",
       "      <td>4.52</td>\n",
       "      <td>2645405.0</td>\n",
       "      <td>190362</td>\n",
       "      <td>30748.634615</td>\n",
       "      <td>NaN</td>\n",
       "      <td>NaN</td>\n",
       "      <td>185</td>\n",
       "      <td>NaN</td>\n",
       "    </tr>\n",
       "    <tr>\n",
       "      <th>4</th>\n",
       "      <td>1996</td>\n",
       "      <td>78.29</td>\n",
       "      <td>Alabama</td>\n",
       "      <td>6647.384615</td>\n",
       "      <td>1.48</td>\n",
       "      <td>4290.403</td>\n",
       "      <td>4.25</td>\n",
       "      <td>2773974.0</td>\n",
       "      <td>239862</td>\n",
       "      <td>33069.519231</td>\n",
       "      <td>NaN</td>\n",
       "      <td>NaN</td>\n",
       "      <td>185</td>\n",
       "      <td>NaN</td>\n",
       "    </tr>\n",
       "  </tbody>\n",
       "</table>\n",
       "</div>"
      ],
      "text/plain": [
       "   year  Coincident Economic Activity Index for     state  Initial Claims in   \\\n",
       "0  1992                                    68.67  Alabama         6830.442308   \n",
       "1  1993                                    70.09  Alabama         6887.307692   \n",
       "2  1994                                    72.70  Alabama         6004.924528   \n",
       "3  1995                                    75.75  Alabama         6809.673077   \n",
       "4  1996                                    78.29  Alabama         6647.384615   \n",
       "\n",
       "   Leading Index for   Resident Population in   \\\n",
       "0                0.59                 4139.269   \n",
       "1                0.57                 4193.114   \n",
       "2                2.10                 4232.965   \n",
       "3                1.33                 4262.731   \n",
       "4                1.48                 4290.403   \n",
       "\n",
       "   Net Interest Margin for Banks in   \\\n",
       "0                               4.71   \n",
       "1                               4.83   \n",
       "2                               5.24   \n",
       "3                               4.52   \n",
       "4                               4.25   \n",
       "\n",
       "   State Government Tax Collections, Total Sales and Gross Receipts Taxes in   \\\n",
       "0                                          2218884.0                            \n",
       "1                                          2514799.0                            \n",
       "2                                          2559992.0                            \n",
       "3                                          2645405.0                            \n",
       "4                                          2773974.0                            \n",
       "\n",
       "   Total Nonperforming Loans for Commercial Banks in   \\\n",
       "0                                             293436    \n",
       "1                                             237026    \n",
       "2                                             216044    \n",
       "3                                             190362    \n",
       "4                                             239862    \n",
       "\n",
       "   Continued Claims (Insured Unemployment) in   \\\n",
       "0                                 38284.403846   \n",
       "1                                 33402.403846   \n",
       "2                                 31312.056604   \n",
       "3                                 30748.634615   \n",
       "4                                 33069.519231   \n",
       "\n",
       "   Health Insurance Coverage: Coverage Rate in  (DISCONTINUED)  \\\n",
       "0                                                NaN             \n",
       "1                                                NaN             \n",
       "2                                                NaN             \n",
       "3                                                NaN             \n",
       "4                                                NaN             \n",
       "\n",
       "   Value of Exports to All Countries from   Commercial Banks in   \\\n",
       "0                             3.279424e+09                   218   \n",
       "1                                      NaN                   216   \n",
       "2                                      NaN                   211   \n",
       "3                                      NaN                   185   \n",
       "4                                      NaN                   185   \n",
       "\n",
       "   Total Investment Securities at Book Value for Commercial Banks in  (DISCONTINUED)  \n",
       "0                                         11553259.0                                  \n",
       "1                                         12051861.0                                  \n",
       "2                                                NaN                                  \n",
       "3                                                NaN                                  \n",
       "4                                                NaN                                  "
      ]
     },
     "execution_count": 126,
     "metadata": {},
     "output_type": "execute_result"
    }
   ],
   "source": [
    "final_df.head(5)"
   ]
  },
  {
   "cell_type": "code",
   "execution_count": null,
   "metadata": {
    "collapsed": true
   },
   "outputs": [],
   "source": []
  },
  {
   "cell_type": "code",
   "execution_count": 53,
   "metadata": {},
   "outputs": [
    {
     "name": "stdout",
     "output_type": "stream",
     "text": [
      "(1377, 14)\n"
     ]
    }
   ],
   "source": []
  },
  {
   "cell_type": "code",
   "execution_count": 64,
   "metadata": {},
   "outputs": [
    {
     "data": {
      "text/plain": [
       "\"\\nalbama=fr.category.series('27282',order_by='popularity',sort_order='desc')\\nalska=fr.category.series('27286',order_by='popularity',sort_order='desc')\\n#help(fr.category.series)\\nalbama=pd.DataFrame(albama)\\nalska=pd.DataFrame(alska)\\nalbama=albama.loc[:,['id','title']]\\nalska=alska.loc[:,['id','title']]\\nimport re\\nalbama['title']=[re.sub('for Alabama|in Alabama','',x) for x in albama['title'] ]\\nalska['title']=[re.sub('for California|in California','',x) for x in alska['title'] ]\\nalbama['id_me']=[re.sub('AL','',x) for x in albama['id'] ]\\nalska['id_me']=[re.sub('CA','',x) for x in alska['id'] ]\\n\""
      ]
     },
     "execution_count": 64,
     "metadata": {},
     "output_type": "execute_result"
    }
   ],
   "source": [
    "'''\n",
    "total_df_list=[]\n",
    "for tag in tag_list:\n",
    "    state_count=0\n",
    "    for state in states:\n",
    "        temp_search=state+';'+tag\n",
    "        #print(temp_search)\n",
    "        temp_df=pd.DataFrame(fr.tag.series(temp_search,order_by='popularity'))\n",
    "        temp_df=temp_df.loc[:,['id']]\n",
    "        temp_df['m_id']=[re.sub(state.upper(),'',x) for x in temp_df['id'] ]\n",
    "        if state_count==0:\n",
    "            final_df=temp_df\n",
    "        else:\n",
    "            final_df=pd.merge(final_df,temp_df,on='m_id',how='inner')\n",
    "        state_count+=1\n",
    "    total_df_list.append(final_df)\n",
    "'''\n",
    "\n",
    "\n",
    "'''\n",
    "albama=fr.category.series('27282',order_by='popularity',sort_order='desc')\n",
    "alska=fr.category.series('27286',order_by='popularity',sort_order='desc')\n",
    "#help(fr.category.series)\n",
    "albama=pd.DataFrame(albama)\n",
    "alska=pd.DataFrame(alska)\n",
    "albama=albama.loc[:,['id','title']]\n",
    "alska=alska.loc[:,['id','title']]\n",
    "import re\n",
    "albama['title']=[re.sub('for Alabama|in Alabama','',x) for x in albama['title'] ]\n",
    "alska['title']=[re.sub('for California|in California','',x) for x in alska['title'] ]\n",
    "albama['id_me']=[re.sub('AL','',x) for x in albama['id'] ]\n",
    "alska['id_me']=[re.sub('CA','',x) for x in alska['id'] ]\n",
    "'''"
   ]
  },
  {
   "cell_type": "code",
   "execution_count": null,
   "metadata": {
    "collapsed": true
   },
   "outputs": [],
   "source": [
    "for i in datasets.iloc[:,0]:\n",
    "    if i[0:3]=='BDS':\n",
    "        print(i)\n",
    "dataset = 'BDSFirmsTimeSeries'\n",
    "con = cen.base.Connection(dataset)\n",
    "con.geographies['fips']\n",
    "con.query(cols=['estabs'],geo_unit='state',apikey='879116b83035eef6bc66700515158f25b5f38c57')\n",
    "state_category=pd.DataFrame(fr.category.children('27281'))\n",
    "state_category=state_category.loc[state_category['name'].isin(state_list),:]\n",
    "state_category.reset_index(drop=True)"
   ]
  }
 ],
 "metadata": {
  "kernelspec": {
   "display_name": "Python 3",
   "language": "python",
   "name": "python3"
  },
  "language_info": {
   "codemirror_mode": {
    "name": "ipython",
    "version": 3
   },
   "file_extension": ".py",
   "mimetype": "text/x-python",
   "name": "python",
   "nbconvert_exporter": "python",
   "pygments_lexer": "ipython3",
   "version": "3.6.3"
  }
 },
 "nbformat": 4,
 "nbformat_minor": 2
}
