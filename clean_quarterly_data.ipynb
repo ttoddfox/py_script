{
 "cells": [
  {
   "cell_type": "code",
   "execution_count": 114,
   "metadata": {
    "collapsed": true
   },
   "outputs": [],
   "source": [
    "import pandas as pd\n",
    "import re\n",
    "import numpy as np\n",
    "import math"
   ]
  },
  {
   "cell_type": "code",
   "execution_count": 115,
   "metadata": {
    "collapsed": true
   },
   "outputs": [],
   "source": [
    "data=pd.read_csv('./2485T.csv')\n",
    "data['Date']=[str(int(x[0:4])+1)+'-01-01' if x.endswith('12-31') else x for x in data['Date']]\n",
    "data['Year']=[x[0:4] for x in data['Date']]\n",
    "data=data.sort_values('Year')"
   ]
  },
  {
   "cell_type": "code",
   "execution_count": 116,
   "metadata": {},
   "outputs": [],
   "source": [
    "final_df=pd.DataFrame(columns=data.columns)\n",
    "for year in np.unique(data['Year']):\n",
    "    sub_df=data.loc[data['Year']==year,:]\n",
    "    if sub_df.shape[0]==4 and sub_df['FSrev'].isnull().sum()<4:\n",
    "        sub_df=sub_df.sort_values('Date')\n",
    "        sub_df=sub_df.reset_index()\n",
    "        if not math.isnan(sub_df.loc[0,'FQrev']):\n",
    "            first_quarter=sub_df.loc[0,'FQrev']\n",
    "        if not math.isnan(sub_df.loc[1,'FSrev']):\n",
    "            first_half_year=sub_df.loc[1,'FSrev']\n",
    "            second_quarter=first_half_year-first_quarter\n",
    "            sub_df.loc[1,'FQrev']=second_quarter\n",
    "        if not math.isnan(sub_df.loc[2,'FQrev']):\n",
    "            fourth_quarter=sub_df.loc[3,'FYrev']-sub_df.loc[2,'FQrev']\n",
    "            third_quarter=sub_df.loc[2,'FQrev']\n",
    "            third_quarter=sub_df.loc[2,'FQrev']-first_half_year\n",
    "            sub_df.loc[2,'FQrev']=third_quarter\n",
    "            sub_df.loc[3,'FQrev']=fourth_quarter\n",
    "    final_df=final_df.append(sub_df,ignore_index=True)\n",
    "\n",
    "            \n",
    "        \n",
    "            \n",
    "        \n",
    "        \n",
    "        "
   ]
  },
  {
   "cell_type": "code",
   "execution_count": 120,
   "metadata": {},
   "outputs": [],
   "source": [
    "final_df=final_df.loc[:,['Date','FYrev','FQrev']]"
   ]
  },
  {
   "cell_type": "code",
   "execution_count": 124,
   "metadata": {},
   "outputs": [],
   "source": [
    "final_df.to_csv('cleaned_data.csv')"
   ]
  }
 ],
 "metadata": {
  "kernelspec": {
   "display_name": "Python 3",
   "language": "python",
   "name": "python3"
  },
  "language_info": {
   "codemirror_mode": {
    "name": "ipython",
    "version": 3
   },
   "file_extension": ".py",
   "mimetype": "text/x-python",
   "name": "python",
   "nbconvert_exporter": "python",
   "pygments_lexer": "ipython3",
   "version": "3.6.3"
  }
 },
 "nbformat": 4,
 "nbformat_minor": 2
}
